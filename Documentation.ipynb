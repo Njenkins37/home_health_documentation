{
 "cells": [
  {
   "cell_type": "code",
   "execution_count": 1,
   "id": "79f9ec07",
   "metadata": {},
   "outputs": [
    {
     "data": {
      "application/vnd.jupyter.widget-view+json": {
       "model_id": "54cc9380fddb4ead96403bd79f6e6aae",
       "version_major": 2,
       "version_minor": 0
      },
      "text/plain": [
       "HBox(children=(VBox(children=(Text(value='', description='Age'), Text(value='', description='Gender'), Text(va…"
      ]
     },
     "metadata": {},
     "output_type": "display_data"
    }
   ],
   "source": [
    "from ipywidgets import widgets, VBox, HBox\n",
    "\n",
    "empty_list = []\n",
    "\n",
    "def create_widget (name): \n",
    "    widget_box = widgets.Text(description=name.title())\n",
    "    return widget_box\n",
    "\n",
    "def create_area (name): \n",
    "    widget_area = widgets.Textarea(description=name.title())\n",
    "    return widget_area\n",
    "\n",
    "def create_vbox(*args):\n",
    "    for arg in args: \n",
    "        empty_list.append(arg)\n",
    "    vbox = widgets.VBox([empty_list])\n",
    "    return vbox\n",
    "\n",
    "signature = \"I, Nick Jenkins, DPT verify that this evaluation accurately reflects my findings and plan for the patient's physical therapy care.\"\n",
    "age = create_widget(\"age\")\n",
    "gender = create_widget(\"gender\")\n",
    "primary_diagnosis = create_widget(\"Primary Diagnosis\")\n",
    "chief_complaint = create_area(\"Chief complaint\")\n",
    "medical_history = create_area(\"Medical History\")\n",
    "surgical_history = create_area(\"Surgical History\")\n",
    "medications = \"Current medications are listed in medication list.\"\n",
    "functional_limitations = create_area(\"Functional Limitations\")\n",
    "height = create_widget(\"Height\")\n",
    "weight = create_widget(\"Weight\")\n",
    "caregiver = create_widget(\"Caregiver\")\n",
    "\n",
    "\n",
    "\n",
    "vbox = widgets.VBox([age, gender, primary_diagnosis, chief_complaint])\n",
    "vbox1 = widgets.VBox([medical_history, surgical_history, functional_limitations])\n",
    "vbox2 = widgets.VBox([height, weight, caregiver])\n",
    "hbox = widgets.HBox([vbox, vbox1, vbox2])\n",
    "display(hbox)"
   ]
  },
  {
   "cell_type": "code",
   "execution_count": 2,
   "id": "84d8faf0",
   "metadata": {},
   "outputs": [],
   "source": [
    "\n",
    "\n",
    "if int(height.value) != 0:\n",
    "    height_squared = int(height.value) * int(height.value)\n",
    "    bmi_interim = 703 * int(weight.value) / height_squared\n",
    "    bmi = float(\"{:.2f}\".format(bmi_interim))\n",
    "\n",
    "if int(height.value) != 0:\n",
    "    if bmi < 18.5:\n",
    "        bmi_indicator = 'underweight'\n",
    "    elif bmi < 25 and bmi > 18.5:\n",
    "        bmi_indicator = 'normal'\n",
    "    elif bmi < 30 and bmi > 25:\n",
    "        bmi_indicator = \"overweight\"\n",
    "    else:\n",
    "        bmi_indicator = \"obese\"\n",
    "\n",
    "if gender.value == 'male':\n",
    "    pos_pron = 'his'\n",
    "    pron = 'he'\n",
    "else: \n",
    "    pos_pron = 'her'\n",
    "    pron = 'she'\n",
    "paragraph = f\"\\tPatient is a {age.value}-year-old {gender.value} who is receiving home health services for a primary diagnosis of {primary_diagnosis.value}. Patient reports {pos_pron} chief complaint is that {chief_complaint.value}. \"\n",
    "paragraph2 = f\" Patient has a past medical history of {medical_history.value} and a surgical history of {surgical_history.value}. \"\n",
    "paragraph3 = f\" Due to the past medical history and past surgeries, the patient demonstrates functional limitations including {functional_limitations.value}. \"\n",
    "if int(height.value) != 0:\n",
    "    paragraph4 = f\"Patient's BMI is {bmi} indicating the patient is {bmi_indicator}. \"\n",
    "else:\n",
    "    paragraph4 = ''\n",
    "paragraph5 = f\"Patient's primary caregiver is {caregiver.value} who is willing and able to assist patient with needs in the home. \"\n",
    "\n",
    "final = paragraph + paragraph2 + paragraph3 + paragraph4 + paragraph5 + medications"
   ]
  },
  {
   "cell_type": "code",
   "execution_count": 3,
   "id": "8c837ca3",
   "metadata": {},
   "outputs": [
    {
     "data": {
      "application/vnd.jupyter.widget-view+json": {
       "model_id": "ad7e83c045bc443585f90c9945500207",
       "version_major": 2,
       "version_minor": 0
      },
      "text/plain": [
       "VBox(children=(HBox(children=(Label(value='Right Lower Extremity'), VBox(children=(Label(value='Hip Rom'), Tex…"
      ]
     },
     "metadata": {},
     "output_type": "display_data"
    }
   ],
   "source": [
    "def create_rom (name, degree):\n",
    "    widget = widgets.Text(description=name.title(), value=degree)\n",
    "    return widget\n",
    "\n",
    "# Returning a dictionary of movement to ROM norms. \n",
    "def create_less_work(movement_list, rom_list):\n",
    "    rom_dict ={}\n",
    "    label = widgets.Label(value=movement_list[0].title())\n",
    "    \n",
    "    for item in movement_list[1:]:\n",
    "        rom_dict[item] = None\n",
    "    for i in range (0, len(rom_list)):\n",
    "        rom_dict[movement_list[i+1]] = rom_list[i]\n",
    "    \n",
    "    widget_list = []\n",
    "    for key, value in rom_dict.items():\n",
    "        value = '/' + str(value)\n",
    "        widget = widgets.Text(description=key.title(), value=value)\n",
    "        widget_list.append(widget)\n",
    "        \n",
    "    widget_list.insert(0, label)\n",
    "    return widget_list\n",
    "    \n",
    "\n",
    "hip_movements = ['Hip ROM', 'flexion', 'extension', 'abduction', 'adduction', 'external rotation', 'internal rotation']\n",
    "hip_rom = [120, 20, 40, 20, 45, 45]\n",
    "knee_movements =['knee ROM','flexion', 'extension']\n",
    "knee_rom = [135, 0]\n",
    "ankle_movements = ['ankle ROM', 'dorsiflexion', 'plantarflexion', 'eversion', 'inversion']\n",
    "ankle_rom = [20, 40, 15, 35]\n",
    "\n",
    "hip_box_right= VBox(create_less_work(hip_movements, hip_rom))\n",
    "knee_box_right = VBox(create_less_work(knee_movements,knee_rom))\n",
    "ankle_box_right = VBox(create_less_work(ankle_movements, ankle_rom))\n",
    "\n",
    "hip_box_left= VBox(create_less_work(hip_movements, hip_rom))\n",
    "knee_box_left = VBox(create_less_work(knee_movements,knee_rom))\n",
    "ankle_box_left = VBox(create_less_work(ankle_movements, ankle_rom))\n",
    "\n",
    "right_label = widgets.Label(value='Right Lower Extremity')\n",
    "left_label = widgets.Label(value = 'Left Lower Extremity')\n",
    "\n",
    "hbox = HBox([right_label, hip_box_right, knee_box_right, ankle_box_right])\n",
    "hbox1 = HBox([left_label, hip_box_left, knee_box_left, ankle_box_left])\n",
    "\n",
    "vbox = VBox([hbox, hbox1])\n",
    "display(vbox)\n",
    "\n",
    "\n",
    "#hip_box = VBox([hip_label,hip_flexion, hip_extension, hip_abduction, hip_adduction, hip_er, hip_ir])\n",
    "#display(hip_box)"
   ]
  },
  {
   "cell_type": "code",
   "execution_count": 4,
   "id": "1a5c20e3",
   "metadata": {},
   "outputs": [
    {
     "name": "stdout",
     "output_type": "stream",
     "text": [
      "Patient presents with the following lower extremity ROM measurements for the RLE: \n",
      "\n",
      "\tHip ROM\t\t\tKnee ROM\t\tAnkle ROM\n",
      "\tFlexion: WFL\t\tFlexion: WFL\t\tPlantarflexion: WFL\n",
      "\tExtension: WFL\t\tExtension: WFL\t\tDorsiflexion: WFL\n",
      "\tAbduction: WFL\t\t\t\t\tEversion: WFL\n",
      "\tAdduction: WFL\t\t\t\t\tInversion: WFL\n",
      "\tExternal Rotation: WFL\n",
      "\tInternal Rotation: WFL\n",
      "\n",
      "Patient presents with the following lower extremity ROM measurements for the LLE: \n",
      "\n",
      "\tHip ROM\t\t\tKnee ROM\t\tAnkle ROM\n",
      "\tFlexion: WFL\t\tFlexion: WFL\t\tPlantarflexion: WFL\n",
      "\tExtension: WFL\t\tExtension: WFL\t\tDorsiflexion: WFL\n",
      "\tAbduction: WFL\t\t\t\t\tEversion: WFL\n",
      "\tAdduction: WFL\t\t\t\t\tInversion: WFL\n",
      "\tExternal Rotation: WFL\n",
      "\tInternal Rotation: WFL\n"
     ]
    }
   ],
   "source": [
    "def get_values_from_vbox(vbox):\n",
    "    values = {}\n",
    "    for widget in vbox.children:\n",
    "        if isinstance(widget, widgets.Text):\n",
    "            values[widget.description.lower()] = widget.value\n",
    "    return values\n",
    "\n",
    "hip_dict_right = get_values_from_vbox(hip_box_right)\n",
    "knee_dict_right = get_values_from_vbox(knee_box_right)\n",
    "ankle_dict_right = get_values_from_vbox(ankle_box_right)\n",
    "\n",
    "hip_dict_left = get_values_from_vbox(hip_box_left)\n",
    "knee_dict_left = get_values_from_vbox(knee_box_left)\n",
    "ankle_dict_left = get_values_from_vbox(ankle_box_left)\n",
    "\n",
    "def remove_values(dictionary):\n",
    "    for key, value in dictionary.items():\n",
    "        test_item = value\n",
    "        if test_item.startswith('/'):\n",
    "            dictionary[key] = \"WFL\"\n",
    "    return dictionary\n",
    "\n",
    "hip_dict_right = remove_values(hip_dict_right)\n",
    "knee_dict_right = remove_values(knee_dict_right)\n",
    "ankle_dict_right = remove_values(ankle_dict_right)\n",
    "\n",
    "hip_dict_left = remove_values(hip_dict_left)\n",
    "knee_dict_left = remove_values(knee_dict_left)\n",
    "ankle_dict_left = remove_values(ankle_dict_left)\n",
    "\n",
    "right_rom_string = 'Patient presents with the following lower extremity ROM measurements for the RLE: \\n'\n",
    "line1 = '\\tHip ROM\\t\\t\\tKnee ROM\\t\\tAnkle ROM'\n",
    "line2 = f'\\tFlexion: {hip_dict_right[\"flexion\"]}\\t\\tFlexion: {knee_dict_right[\"flexion\"]}\\t\\tPlantarflexion: {ankle_dict_right[\"plantarflexion\"]}'\n",
    "line3 = f'\\tExtension: {hip_dict_right[\"extension\"]}\\t\\tExtension: {knee_dict_right[\"extension\"]}\\t\\tDorsiflexion: {ankle_dict_right[\"dorsiflexion\"]}'\n",
    "line4 = f'\\tAbduction: {hip_dict_right[\"abduction\"]}\\t\\t\\t\\t\\tEversion: {ankle_dict_right[\"eversion\"]}'\n",
    "line5 = f'\\tAdduction: {hip_dict_right[\"adduction\"]}\\t\\t\\t\\t\\tInversion: {ankle_dict_right[\"inversion\"]}'\n",
    "line6 = f'\\tExternal Rotation: {hip_dict_right[\"external rotation\"]}'\n",
    "line7 = f'\\tInternal Rotation: {hip_dict_right[\"internal rotation\"]}'\n",
    "\n",
    "right_rom_paragraph = right_rom_string + '\\n' + line1 + '\\n'+ line2+ '\\n' + line3 + '\\n'+ line4 + '\\n' + line5 + '\\n' + line6 + '\\n' + line7 + '\\n'\n",
    "print(right_rom_paragraph)\n",
    "\n",
    "left_rom_string = 'Patient presents with the following lower extremity ROM measurements for the LLE: \\n'\n",
    "lline1 = '\\tHip ROM\\t\\t\\tKnee ROM\\t\\tAnkle ROM'\n",
    "lline2 = f'\\tFlexion: {hip_dict_left[\"flexion\"]}\\t\\tFlexion: {knee_dict_left[\"flexion\"]}\\t\\tPlantarflexion: {ankle_dict_left[\"plantarflexion\"]}'\n",
    "lline3 = f'\\tExtension: {hip_dict_left[\"extension\"]}\\t\\tExtension: {knee_dict_left[\"extension\"]}\\t\\tDorsiflexion: {ankle_dict_left[\"dorsiflexion\"]}'\n",
    "lline4 = f'\\tAbduction: {hip_dict_left[\"abduction\"]}\\t\\t\\t\\t\\tEversion: {ankle_dict_left[\"eversion\"]}'\n",
    "lline5 = f'\\tAdduction: {hip_dict_left[\"adduction\"]}\\t\\t\\t\\t\\tInversion: {ankle_dict_left[\"inversion\"]}'\n",
    "lline6 = f'\\tExternal Rotation: {hip_dict_left[\"external rotation\"]}'\n",
    "lline7 = f'\\tInternal Rotation: {hip_dict_left[\"internal rotation\"]}'\n",
    "\n",
    "left_rom_paragraph = left_rom_string + '\\n' + lline1 + '\\n'+ lline2+ '\\n' + lline3 + '\\n'+ lline4 + '\\n' + lline5 + '\\n' + lline6 + '\\n' + lline7\n",
    "print(left_rom_paragraph)\n",
    "\n",
    "def remove_wfl(dictionary):\n",
    "    empty_list = []\n",
    "    for key, value in dictionary.items():\n",
    "        if value.startswith('WFL'):\n",
    "            empty_list.append(key)\n",
    "    for item in empty_list:\n",
    "        del dictionary[item]\n",
    "    return dictionary\n"
   ]
  },
  {
   "cell_type": "code",
   "execution_count": 5,
   "id": "d975af17",
   "metadata": {},
   "outputs": [
    {
     "data": {
      "application/vnd.jupyter.widget-view+json": {
       "model_id": "434686238239447cbe852390039f58de",
       "version_major": 2,
       "version_minor": 0
      },
      "text/plain": [
       "VBox(children=(HBox(children=(VBox(children=(Label(value='Right Hip MMT'), Text(value='/5', description='Flexi…"
      ]
     },
     "metadata": {},
     "output_type": "display_data"
    }
   ],
   "source": [
    "def create_mmt(muscle):\n",
    "    widget = widgets.Text(description=muscle, value='/5')\n",
    "    return widget\n",
    "\n",
    "def create_vbox(listy_list, label):\n",
    "    muscle_label = widgets.Label(value=label)\n",
    "    empty_list = [muscle_label]\n",
    "    \n",
    "    for item in listy_list:\n",
    "        empty_list.append(create_mmt(item))\n",
    "    vbox = VBox(empty_list)\n",
    "    return vbox\n",
    "\n",
    "hip_movements = ['Flexion', 'Extension', 'Abduction', 'Adduction', 'External Rotation', 'Internal Rotation']\n",
    "knee_movements = ['Flexion', 'Extension']\n",
    "ankle_movements = ['Dorsiflexion', 'Plantarflexion', 'Inversion', 'Eversion']\n",
    "\n",
    "right_hip_strength = create_vbox(hip_movements, 'Right Hip MMT')\n",
    "left_hip_strength = create_vbox(hip_movements, 'Left Hip MMT')\n",
    "\n",
    "right_knee_strength = create_vbox(knee_movements, 'Right Knee MMT')\n",
    "left_knee_strength = create_vbox(knee_movements, 'Left Knee MMT')\n",
    "\n",
    "right_ankle_strength = create_vbox(ankle_movements, 'Right Ankle MMT')\n",
    "left_ankle_strength = create_vbox(ankle_movements, 'Left Ankle MMT')\n",
    "\n",
    "hbox1 = HBox([right_hip_strength, right_knee_strength, right_ankle_strength])\n",
    "hbox2 = HBox([left_hip_strength, left_knee_strength, left_ankle_strength])\n",
    "\n",
    "vbox = VBox([hbox1, hbox2])\n",
    "display(vbox)"
   ]
  },
  {
   "cell_type": "code",
   "execution_count": 44,
   "id": "1ca6286b",
   "metadata": {},
   "outputs": [
    {
     "name": "stdout",
     "output_type": "stream",
     "text": [
      "Patient presents with the following strength grades for RLE: \n",
      "\n",
      "\tHip Strength\t\t\tKnee Strength\t\t\tAnkle Strength\n",
      "\tFlexion: 4\t\t\tFlexion: 4\t\t\tDorsiflexion:4+\n",
      "\tExtension: 4+\t\t\tExtension: 4\t\t\tPlantarflexion:4+\n",
      "\tAbduction: NT\t\t\t\t\t\t\tInversion:4+\n",
      "\tAdduction: NT\t\t\t\t\t\t\tEversion:4+\n",
      "\tExternal Rotation: NT\n",
      "\tInternal Rotation: NT\n",
      "\n",
      "\n",
      "Patient presents with the following strength grades for LLE: \n",
      "\n",
      "\tHip Strength\t\t\tKnee Strength\t\t\tAnkle Strength\n",
      "\tFlexion: NT\t\t\tFlexion: NT\t\t\tDorsiflexion:NT\n",
      "\tExtension: NT\t\t\tExtension: NT\t\t\tPlantarflexion:NT\n",
      "\tAbduction: NT\t\t\t\t\t\t\tInversion:NT\n",
      "\tAdduction: NT\t\t\t\t\t\t\tEversion:NT\n",
      "\tExternal Rotation: NT\n",
      "\tInternal Rotation: NT\n"
     ]
    }
   ],
   "source": [
    "rhip_mmt_dict = remove_values(get_values_from_vbox(right_hip_strength))\n",
    "lhip_mmt_dict = remove_values(get_values_from_vbox(left_hip_strength))\n",
    "\n",
    "rknee_mmt_dict = remove_values(get_values_from_vbox(right_knee_strength))\n",
    "lknee_mmt_dict = remove_values(get_values_from_vbox(left_knee_strength))\n",
    "\n",
    "rankle_mmt_dict = remove_values(get_values_from_vbox(right_ankle_strength))\n",
    "lankle_mmt_dict = remove_values(get_values_from_vbox(left_ankle_strength))\n",
    "\n",
    "rmmt_prefab = 'Patient presents with the following strength grades for RLE: \\n'\n",
    "lmmt_prefab = 'Patient presents with the following strength grades for LLE: \\n'\n",
    "\n",
    "line1 = f'\\tHip Strength\\t\\t\\tKnee Strength\\t\\t\\tAnkle Strength'\n",
    "line2 = f'\\tFlexion: {rhip_mmt_dict[\"flexion\"]}\\t\\t\\tFlexion: {rknee_mmt_dict[\"flexion\"]}\\t\\t\\tDorsiflexion:{rankle_mmt_dict[\"dorsiflexion\"]}'\n",
    "line3 = f'\\tExtension: {rhip_mmt_dict[\"extension\"]}\\t\\t\\tExtension: {rknee_mmt_dict[\"extension\"]}\\t\\t\\tPlantarflexion:{rankle_mmt_dict[\"plantarflexion\"]}'\n",
    "line4 = f'\\tAbduction: {rhip_mmt_dict[\"abduction\"]}\\t\\t\\t\\t\\t\\t\\tInversion:{rankle_mmt_dict[\"inversion\"]}'\n",
    "line5 = f'\\tAdduction: {rhip_mmt_dict[\"adduction\"]}\\t\\t\\t\\t\\t\\t\\tEversion:{rankle_mmt_dict[\"eversion\"]}'\n",
    "line6 = f'\\tExternal Rotation: {rhip_mmt_dict[\"external rotation\"]}'\n",
    "line7 = f'\\tInternal Rotation: {rhip_mmt_dict[\"internal rotation\"]}'\n",
    "\n",
    "r_strength_paragraph = rmmt_prefab + '\\n' + line1 + '\\n' + line2 + '\\n' +line3 + '\\n' + line4 + '\\n' + line5 + '\\n' + line6 + '\\n' + line7\n",
    "\n",
    "line8 = f'\\tHip Strength\\t\\t\\tKnee Strength\\t\\t\\tAnkle Strength'\n",
    "line9 = f'\\tFlexion: {lhip_mmt_dict[\"flexion\"]}\\t\\t\\tFlexion: {lknee_mmt_dict[\"flexion\"]}\\t\\t\\tDorsiflexion:{lankle_mmt_dict[\"dorsiflexion\"]}'\n",
    "line10 = f'\\tExtension: {lhip_mmt_dict[\"extension\"]}\\t\\t\\tExtension: {lknee_mmt_dict[\"extension\"]}\\t\\t\\tPlantarflexion:{lankle_mmt_dict[\"plantarflexion\"]}'\n",
    "line11 = f'\\tAbduction: {lhip_mmt_dict[\"abduction\"]}\\t\\t\\t\\t\\t\\t\\tInversion:{lankle_mmt_dict[\"inversion\"]}'\n",
    "line12 = f'\\tAdduction: {lhip_mmt_dict[\"adduction\"]}\\t\\t\\t\\t\\t\\t\\tEversion:{lankle_mmt_dict[\"eversion\"]}'\n",
    "line13 = f'\\tExternal Rotation: {lhip_mmt_dict[\"external rotation\"]}'\n",
    "line14 = f'\\tInternal Rotation: {lhip_mmt_dict[\"internal rotation\"]}'\n",
    "\n",
    "l_strength_paragraph = lmmt_prefab + '\\n' + line8 + '\\n' + line9 + '\\n' +line10 + '\\n' + line11 + '\\n' + line12 + '\\n' + line13 + '\\n' + line14\n",
    "print(r_strength_paragraph)\n",
    "print('\\n')\n",
    "print(l_strength_paragraph)\n",
    "\n"
   ]
  },
  {
   "cell_type": "code",
   "execution_count": 6,
   "id": "c844df4d",
   "metadata": {},
   "outputs": [
    {
     "data": {
      "application/vnd.jupyter.widget-view+json": {
       "model_id": "37b0aafd3dc74b18ba830ae89c5bde55",
       "version_major": 2,
       "version_minor": 0
      },
      "text/plain": [
       "HBox(children=(VBox(children=(Label(value='Bed Mobility'), Checkbox(value=False, description='No Assistance'),…"
      ]
     },
     "metadata": {},
     "output_type": "display_data"
    }
   ],
   "source": [
    "from ipywidgets import widgets, HBox, VBox\n",
    "\n",
    "def get_selected_checkbox_values():\n",
    "    values = []\n",
    "    for vbox in [vbox1, vbox2, vbox3, vbox4, vbox5, vbox6, vbox7]:\n",
    "        label = vbox.children[0].value\n",
    "        checkboxes = vbox.children[1:]\n",
    "        selected_value = next((checkbox.description for checkbox in checkboxes if checkbox.value), None)\n",
    "        if selected_value is not None:\n",
    "            values.append(f\"{selected_value} for {label}\")\n",
    "    return values\n",
    "\n",
    "def create_checkbox(description):\n",
    "    return widgets.Checkbox(value=False, description=description)\n",
    "\n",
    "def create_adl_checkbox(name):\n",
    "    label = widgets.Label(value=name)\n",
    "    checkbox1 = create_checkbox(\"No Assistance\")\n",
    "    checkbox2 = create_checkbox(\"SBA\")\n",
    "    checkbox3 = create_checkbox(\"Supervision\")\n",
    "    checkbox4 = create_checkbox(\"CGA\")\n",
    "    checkbox5 = create_checkbox(\"Min A\")\n",
    "    checkbox6 = create_checkbox(\"Mod A\")\n",
    "    checkbox7 = create_checkbox(\"Max A\")  # Corrected label: \"MaxA\" (previously \"Max A\")\n",
    "    checkbox8 = create_checkbox(\"Total Assistance\")\n",
    "    checkbox9 = create_checkbox(\"Two helper assist\")\n",
    "    functional_list = [label, checkbox1, checkbox2, checkbox3, checkbox4, checkbox5, checkbox6, checkbox7, checkbox8, checkbox9]\n",
    "    return functional_list\n",
    "\n",
    "vbox1 = VBox(create_adl_checkbox('Bed Mobility'))\n",
    "vbox2 = VBox(create_adl_checkbox('Bed to Chair Transfer'))\n",
    "vbox3 = VBox(create_adl_checkbox('Sit to stand Transfer'))\n",
    "vbox4 = VBox(create_adl_checkbox('Toilet Transfer'))\n",
    "\n",
    "hbox = HBox([vbox1, vbox2, vbox3, vbox4])\n",
    "display(hbox)\n"
   ]
  },
  {
   "cell_type": "code",
   "execution_count": 7,
   "id": "d0cd4b51",
   "metadata": {},
   "outputs": [
    {
     "data": {
      "application/vnd.jupyter.widget-view+json": {
       "model_id": "862749f9bd104c3f8993de82c5c28d54",
       "version_major": 2,
       "version_minor": 0
      },
      "text/plain": [
       "HBox(children=(VBox(children=(Label(value='Car Transfer'), Checkbox(value=False, description='No Assistance'),…"
      ]
     },
     "metadata": {},
     "output_type": "display_data"
    }
   ],
   "source": [
    "vbox5 = VBox(create_adl_checkbox('Car Transfer'))\n",
    "vbox6 = VBox(create_adl_checkbox('Shower Transfer'))\n",
    "vbox7 = VBox(create_adl_checkbox('Ambulation'))\n",
    "\n",
    "hbox = HBox([vbox5, vbox6, vbox7])\n",
    "display(hbox)"
   ]
  },
  {
   "cell_type": "code",
   "execution_count": 8,
   "id": "2f22bb9c",
   "metadata": {},
   "outputs": [
    {
     "name": "stdout",
     "output_type": "stream",
     "text": [
      "\tPatient requires the following assistance for functional mobility: min a for bed mobility. min a for bed to chair transfer. mod a for sit to stand transfer. mod a for toilet transfer. cga for ambulation. \n"
     ]
    }
   ],
   "source": [
    "value = get_selected_checkbox_values()\n",
    "mobility_string = \"\\tPatient requires the following assistance for functional mobility: \"\n",
    "for item in value:\n",
    "    mobility_string = mobility_string + item.lower() + \", \"\n",
    "\n",
    "locator = len(mobility_string)\n",
    "mobility_string = mobility_string.replace(',', '.',)\n",
    "print(mobility_string)"
   ]
  },
  {
   "cell_type": "code",
   "execution_count": 9,
   "id": "7a76af0f",
   "metadata": {},
   "outputs": [
    {
     "data": {
      "application/vnd.jupyter.widget-view+json": {
       "model_id": "a79423c87eb84c15bd8f033ff77039bd",
       "version_major": 2,
       "version_minor": 0
      },
      "text/plain": [
       "VBox(children=(Label(value='Functional Tests'), Text(value='', description='Tinetti'), Text(value='', descript…"
      ]
     },
     "metadata": {},
     "output_type": "display_data"
    }
   ],
   "source": [
    "berg = widgets.Text(description=\"Berg\")\n",
    "tinetti = widgets.Text(description=\"Tinetti\")\n",
    "tug = widgets.Text(description=\"TUG\")\n",
    "walk_test = widgets.Text(description=\"2 Minute Walk Test\")\n",
    "chair_stand = widgets.Text(description=\"30 Second Chair Stand Test\")\n",
    "label= widgets.Label(value=\"Functional Tests\")\n",
    "\n",
    "vbox = VBox([label, tinetti, berg, tug, walk_test, chair_stand])\n",
    "display(vbox)"
   ]
  },
  {
   "cell_type": "code",
   "execution_count": 16,
   "id": "72579a52",
   "metadata": {},
   "outputs": [
    {
     "name": "stdout",
     "output_type": "stream",
     "text": [
      "The patient was scored as follows on these functional balance, endurance, and strength assessments: \n",
      "\tTinetti: 10\n",
      "\t30 Second Chair Stand Test: 0\n",
      "\n"
     ]
    }
   ],
   "source": [
    "balance_prefab = 'The patient was scored as follows on these functional balance, endurance, and strength assessments: \\n'\n",
    "\n",
    "tinetti_line = f'Tinetti: {tinetti.value}\\n'\n",
    "berg_line = f'Berg: {berg.value}\\n'\n",
    "tug_line = f'TUG: {tug.value}\\n'\n",
    "walk_line = f'2 Minute Walk Test: {walk_test.value}\\n'\n",
    "chair_line= f'30 Second Chair Stand Test: {chair_stand.value}\\n'\n",
    "\n",
    "functional_paragraph = balance_prefab\n",
    "\n",
    "if len(tinetti.value) != 0:\n",
    "    functional_paragraph = functional_paragraph + '\\t' + tinetti_line\n",
    "\n",
    "if len(berg.value) != 0:\n",
    "    functional_paragraph = functional_paragraph + '\\t' + berg_line\n",
    "\n",
    "if len(tug.value) != 0:\n",
    "    functional_paragraph = functional_paragraph + '\\t' + tug_line\n",
    "\n",
    "if len(walk_test.value) != 0:\n",
    "    functional_paragraph = functional_paragraph + '\\t' + walk_line\n",
    "    \n",
    "if len(chair_stand.value) != 0:\n",
    "    functional_paragraph = functional_paragraph + '\\t' + chair_line\n",
    "\n",
    "    \n",
    "print(functional_paragraph)\n"
   ]
  },
  {
   "cell_type": "code",
   "execution_count": 18,
   "id": "a1b86f75",
   "metadata": {},
   "outputs": [
    {
     "name": "stdout",
     "output_type": "stream",
     "text": [
      "\tThe patient's Tinetti score indicates that he is a high fall risk. The patient's 30 Second Sit to Stand Test indicates that the patient is at risk for falls.\n"
     ]
    }
   ],
   "source": [
    "\n",
    "if int(tinetti.value) <= 18:\n",
    "    tinetti_risk = True\n",
    "    fall_risk = f\"The patient's Tinetti score indicates that {pron} is a high fall risk. \"\n",
    "elif int(tinetti.value) > 18 and int(tinetti.value)<=22:\n",
    "    tinetti_risk = True\n",
    "    fall_risk=f\"The patient's Tinetti score indicates that {pron} is a moderate fall risk. \"\n",
    "else:\n",
    "    tinetti_risk = False\n",
    "    fall_risk=f\"The patient's Tinetti score indicates that {pron} is a low fall risk. \"\n",
    "\n",
    "'''\n",
    "if int(berg.value) <= 45 and tinetti_risk and int(berg.value)!=0:\n",
    "    berg_risk = True\n",
    "    berg_fall_risk = f\"The patient's Berg score also indicates that {pron} is a high fall risk. \"\n",
    "elif int(berg.value) <=45 and ~tinetti_risk:\n",
    "    berg_risk =True\n",
    "    berg_fall_risk = f\"Although the patient's Tinetti score indcates the patient is not a high fall risk, the Berg Balance Assessment indicates that {pron} is a high fall risk. \"\n",
    "elif int(berg.value) > 55:\n",
    "    berg_risk = False\n",
    "    berg_fall_risk = f\"The patient's Berg Balance Assessment indicates that the patient has functional balance. \"\n",
    "else:\n",
    "    berg_risk = False\n",
    "    berg_fall_risk = f\"The patient's Berg Balance Assessment indicates that the patient is at risk for falls. \"\n",
    "    \n",
    "\n",
    "if int(tug.value) > 13.5 and int(tug.value) != 0:\n",
    "    tug_risk = True\n",
    "    tug_fall_risk = f\"Patient's TUG score is greater than the cutoff scores for fall risk indicating that {pron} is a high fall risk.\"\n",
    "else:\n",
    "    tug_risk = False\n",
    "    tug_fall_risk = f\"Patient's TUG sore indicates that {pron} is not a high fall risk.\"\n",
    "\n",
    "\n",
    "    \n",
    "male_mwt_prediction = 279.096 - (.998 * int(age.value)) - (1.426 * bmi)\n",
    "female_mwt_prediction = 257.177 - (0.723 * int(age.value)) - (1.688 * bmi)\n",
    "\n",
    "\n",
    "if gender.value == 'male' and int(walk_test.value) > int(male_mwt_prediction):\n",
    "    func_bool = False\n",
    "    func_endurance = f\"Patient's functional endurance is indicated to be better than the age and BMI related prediction for the 2 MWT with {pos_pron} prediction being {int(male_mwt_prediction)} feet.\"\n",
    "elif gender.value == 'male' and int(walk_test.value) < int(male_mwt_prediction):\n",
    "    func_bool = True\n",
    "    func_endurance = f\"Patient's functional endurance is impaired as evidenced ed by patient's 2 MWT being less than the age and BMI related prediction of {int(male_mwt_prediction)} feet.\"\n",
    "elif gender.value == 'female' and int(walk_test.value) > int(female_mwt_prediction):\n",
    "    func_bool = True\n",
    "    func_endurance = f\"Patient's functional endurance is indicated to be better than the age related prediction for the 2 MWT with {pos_pron} prediction being {int(female_mwt_prediction)} feet.\"\n",
    "else:\n",
    "    func_bool = False\n",
    "    func_endurance = f\"Patient's functional endurance is impaired as evidenced ed by patient's 2 MWT being less than the age and BMI related prediction of {int(female_mwt_prediction)} feet.\"\n",
    "    '''\n",
    "\n",
    "if gender.value == 'male':\n",
    "    if int(chair_stand.value) < 14 and int(age.value) < 65:\n",
    "        chair_bool = True\n",
    "        chair_test = \"The patient's 30 Second Sit to Stand Test indicates that the patient is at risk for falls.\"\n",
    "    elif int(age.value) < 75 and int(age.value > 64) and int(chair_stand.value) < 12:\n",
    "        chair_bool = True\n",
    "        chair_test = \"The patient's 30 Second Sit to Stand Test indicates that the patient is at risk for falls.\"\n",
    "    elif int(age.value) < 80 and int(age.value) > 75 and int(chair_stand.value) < 11:\n",
    "        chair_bool = True\n",
    "        chair_test = \"The patient's 30 Second Sit to Stand Test indicates that the patient is at risk for falls.\"\n",
    "    elif int(age.value) < 85 and int(age.value) > 80 and int(chair_stand.value) < 10:\n",
    "        chair_bool = True\n",
    "        chair_test = \"The patient's 30 Second Sit to Stand Test indicates that the patient is at risk for falls.\"\n",
    "    elif int(age.value) < 90 and int(age.value) > 85 and int(chair_stand.value) < 8:\n",
    "        chair_bool = True\n",
    "        chair_test = \"The patient's 30 Second Sit to Stand Test indicates that the patient is at risk for falls.\"\n",
    "    elif int(age.value) < 95 and int(age.value) > 90 and int(chair_stand.value) < 7:\n",
    "        chair_bool = True\n",
    "        chair_test = \"The patient's 30 Second Sit to Stand Test indicates that the patient is at risk for falls.\"\n",
    "    else:\n",
    "        chair_bool = False\n",
    "        chair_test = \"The patient's 30 Second Sit to Stand Test indicates that the patient is not a high fall risk\" \n",
    "else:\n",
    "    if int(chair_stand.value) < 12 and int(age.value) < 65:\n",
    "        chair_bool = True\n",
    "        chair_test = \"The patient's 30 Second Sit to Stand Test indicates that the patient is at risk for falls.\"\n",
    "    elif int(age.value) < 70 and int(age.value > 65) and int(chair_stand.value) < 11:\n",
    "        chair_bool = True\n",
    "        chair_test = \"The patient's 30 Second Sit to Stand Test indicates that the patient is at risk for falls.\"\n",
    "    elif int(age.value) < 80 and int(age.value) > 70 and int(chair_stand.value) < 10:\n",
    "        chair_bool = True\n",
    "        chair_test = \"The patient's 30 Second Sit to Stand Test indicates that the patient is at risk for falls.\"\n",
    "    elif int(age.value) < 85 and int(age.value) > 80 and int(chair_stand.value) < 9:\n",
    "        chair_bool = True\n",
    "        chair_test = \"The patient's 30 Second Sit to Stand Test indicates that the patient is at risk for falls.\"\n",
    "    elif int(age.value) < 90 and int(age.value) > 85 and int(chair_stand.value) < 8:\n",
    "        chair_bool = True\n",
    "        chair_test = \"The patient's 30 Second Sit to Stand Test indicates that the patient is at risk for falls.\"\n",
    "    elif int(age.value) < 95 and int(age.value) > 90 and int(chair_stand.value) < 4:\n",
    "        chair_bool = True\n",
    "        chair_test = \"The patient's 30 Second Sit to Stand Test indicates that the patient is at risk for falls.\"\n",
    "    else:\n",
    "        chair_bool = False\n",
    "        chair_test = \"The patient's 30 Second Sit to Stand Test indicates that the patient is not a high fall risk\"\n",
    "    \n",
    "fall_assessment = f\"\\t{fall_risk}{chair_test}\"\n",
    "print(fall_assessment)\n"
   ]
  },
  {
   "cell_type": "code",
   "execution_count": 19,
   "id": "cad49008",
   "metadata": {},
   "outputs": [],
   "source": [
    "homebound_status = \"Patient is homebound as evidenced by patient requiring the use of an assistive device as well as assistance from another person to leave the home. \"\n",
    "if tinetti_risk or berg_risk or tug_risk or chair_bool or func_bool:\n",
    "    functional_status = \"Patient also demonstrates a taxing effort with leaving the home as evidenced by patient being a high fall risk as well as requiring prolonged recovery times between bouts of activity.\"\n",
    "else:\n",
    "    functional_status = \"YOU NEED TO TYPE SOMETHING HERE.\"\n",
    "\n",
    "assessment = \"Patient would benefit from skilled physical therapy to address the ROM, strength, and functional impairments documented in this evaluation. Patient will require therapeutic exercises, teaching and training, and supervised learning to assist patient with HEP preparation as well as improve independence with functional tasks.\"\n",
    "\n",
    "end_graph = homebound_status + functional_status + assessment"
   ]
  },
  {
   "cell_type": "code",
   "execution_count": 20,
   "id": "09f2b1a0",
   "metadata": {},
   "outputs": [
    {
     "data": {
      "application/vnd.jupyter.widget-view+json": {
       "model_id": "27bcdeafd3bf48d8962e1a91d723745e",
       "version_major": 2,
       "version_minor": 0
      },
      "text/plain": [
       "HBox(children=(Text(value='', description='Nurse'), Text(value='', description='Physician'), Text(value='', de…"
      ]
     },
     "metadata": {},
     "output_type": "display_data"
    }
   ],
   "source": [
    "nurse = create_widget(\"Nurse\")\n",
    "physician = create_widget(\"Physician\")\n",
    "poc = create_widget(\"POC Frequency\")\n",
    "\n",
    "hbox = HBox([nurse, physician,poc])\n",
    "display(hbox)"
   ]
  },
  {
   "cell_type": "code",
   "execution_count": 21,
   "id": "3a7a681d",
   "metadata": {},
   "outputs": [],
   "source": [
    "from datetime import datetime, timedelta\n",
    "\n",
    "current_datetime = datetime.now()\n",
    "current_date = current_datetime.date()\n",
    "sixty_days = 60\n",
    "\n",
    "sixty_days_from_now = current_date + timedelta(days=sixty_days)\n",
    "\n",
    "formatted_date = sixty_days_from_now.strftime(\"%m/%d/%Y\")\n",
    "\n",
    "goal_statement = f\"It is reasonable to expect patient to meet goals by {formatted_date}, and an early discharge will be planned if patient meets goals quicker than expected. \"\n",
    "if len(nurse.value) != 0:\n",
    "    physician_office = f\"Verbal orders confirmed for POC frequency of {poc.value} with {(nurse.value).title()} from Dr. {(physician.value).title()}'s office.\"\n",
    "else:\n",
    "    physician_office = f\"Voicemail left for physician's office for POC with call back instructions if physician disagreed with POC. No call back received by completion of documentation.\"\n",
    "    \n",
    "office_string = goal_statement + physician_office"
   ]
  },
  {
   "cell_type": "code",
   "execution_count": 24,
   "id": "2b4893e5",
   "metadata": {},
   "outputs": [
    {
     "name": "stdout",
     "output_type": "stream",
     "text": [
      "\tPatient is a 84-year-old male who is receiving home health services for a primary diagnosis of heart failure. Patient reports his chief complaint is that difficulty with ambulating in home with a rolling walker.  Patient has a past medical history of BPH, metabolic encephalopathy, colon cancer and a surgical history of none.  Due to the past medical history and past surgeries, the patient demonstrates functional limitations including sit to strand transfers, balance, and endurance. Patient's BMI is 28.31 indicating the patient is overweight. Patient's primary caregiver is daughter who is willing and able to assist patient with needs in the home. Current medications are listed in medication list.\n",
      "\n",
      "\n",
      "Patient presents with the following lower extremity ROM measurements for the RLE: \n",
      "\n",
      "\tHip ROM\t\t\tKnee ROM\t\tAnkle ROM\n",
      "\tFlexion: WFL\t\tFlexion: WFL\t\tPlantarflexion: WFL\n",
      "\tExtension: WFL\t\tExtension: WFL\t\tDorsiflexion: WFL\n",
      "\tAbduction: WFL\t\t\t\t\tEversion: WFL\n",
      "\tAdduction: WFL\t\t\t\t\tInversion: WFL\n",
      "\tExternal Rotation: WFL\n",
      "\tInternal Rotation: WFL\n",
      "\n",
      "Patient presents with the following lower extremity ROM measurements for the LLE: \n",
      "\n",
      "\tHip ROM\t\t\tKnee ROM\t\tAnkle ROM\n",
      "\tFlexion: WFL\t\tFlexion: WFL\t\tPlantarflexion: WFL\n",
      "\tExtension: WFL\t\tExtension: WFL\t\tDorsiflexion: WFL\n",
      "\tAbduction: WFL\t\t\t\t\tEversion: WFL\n",
      "\tAdduction: WFL\t\t\t\t\tInversion: WFL\n",
      "\tExternal Rotation: WFL\n",
      "\tInternal Rotation: WFL\n",
      "\n",
      "\n",
      "\tPatient requires the following assistance for functional mobility: min a for bed mobility. min a for bed to chair transfer. mod a for sit to stand transfer. mod a for toilet transfer. cga for ambulation. \n",
      "\n",
      "\n",
      "The patient was scored as follows on these functional balance, endurance, and strength assessments: \n",
      "\tTinetti: 10\n",
      "\t30 Second Chair Stand Test: 0\n",
      "\n",
      "\tThe patient's Tinetti score indicates that he is a high fall risk. The patient's 30 Second Sit to Stand Test indicates that the patient is at risk for falls.\n",
      "\tPatient is homebound as evidenced by patient requiring the use of an assistive device as well as assistance from another person to leave the home. Patient also demonstrates a taxing effort with leaving the home as evidenced by patient being a high fall risk as well as requiring prolonged recovery times between bouts of activity.Patient would benefit from skilled physical therapy to address the ROM, strength, and functional impairments documented in this evaluation. Patient will require therapeutic exercises, teaching and training, and supervised learning to assist patient with HEP preparation as well as improve independence with functional tasks.\n",
      "\tIt is reasonable to expect patient to meet goals by 02/04/2024, and an early discharge will be planned if patient meets goals quicker than expected. Verbal orders confirmed for POC frequency of 2wk2, 1wk6 with Ryan from Dr. Beck's office.\n",
      "\tI, Nick Jenkins, DPT verify that this evaluation accurately reflects my findings and plan for the patient's physical therapy care.\n"
     ]
    }
   ],
   "source": [
    "print(final)\n",
    "print('\\n')\n",
    "print(right_rom_paragraph)\n",
    "print(left_rom_paragraph)\n",
    "print('\\n')\n",
    "print(mobility_string)\n",
    "print('\\n')\n",
    "print(functional_paragraph)\n",
    "print(fall_assessment)\n",
    "print(f\"\\t{end_graph}\")\n",
    "print(f\"\\t{office_string}\")\n",
    "print(f\"\\t{signature}\")"
   ]
  },
  {
   "cell_type": "code",
   "execution_count": null,
   "id": "a904d7f9",
   "metadata": {},
   "outputs": [],
   "source": []
  }
 ],
 "metadata": {
  "kernelspec": {
   "display_name": "Python 3 (ipykernel)",
   "language": "python",
   "name": "python3"
  },
  "language_info": {
   "codemirror_mode": {
    "name": "ipython",
    "version": 3
   },
   "file_extension": ".py",
   "mimetype": "text/x-python",
   "name": "python",
   "nbconvert_exporter": "python",
   "pygments_lexer": "ipython3",
   "version": "3.11.5"
  }
 },
 "nbformat": 4,
 "nbformat_minor": 5
}
